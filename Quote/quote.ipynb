{
 "cells": [
  {
   "cell_type": "markdown",
   "metadata": {},
   "source": [
    "# Assignment 2 - DS4Biz Y63\n",
    "## TextScraping_Classification\n",
    "***\n",
    "\n",
    "### Team Detail\n",
    "**Team Name**: jonas   \n",
    "***\n",
    "### *Student 1*\n",
    "**Student ID**: 61070296   \n",
    "**Student Full Name**: ณัฐวุฒิ  อกนิษฐ์ศุภร\n",
    "***\n",
    "### *Student 2*\n",
    "**Student ID**: 61070319   \n",
    "**Student Full Name**: โรจนัสถ์ รอดรุ่งเรือง\n",
    "***"
   ]
  },
  {
   "cell_type": "markdown",
   "metadata": {},
   "source": [
    "# Import Library"
   ]
  },
  {
   "cell_type": "code",
   "execution_count": 46,
   "metadata": {},
   "outputs": [
    {
     "name": "stderr",
     "output_type": "stream",
     "text": [
      "[nltk_data] Downloading package stopwords to\n",
      "[nltk_data]     /Users/kontup/nltk_data...\n",
      "[nltk_data]   Package stopwords is already up-to-date!\n"
     ]
    }
   ],
   "source": [
    "import requests\n",
    "import bs4\n",
    "from pprint import pprint\n",
    "import pandas as pd\n",
    "import numpy as np\n",
    "import matplotlib.pyplot as plt\n",
    "from sklearn.feature_extraction.text import CountVectorizer\n",
    "pd.set_option('max_columns',None)\n",
    "import nltk\n",
    "from sklearn.model_selection import cross_val_score , GridSearchCV\n",
    "nltk.download('stopwords')\n",
    "from sklearn.model_selection import train_test_split\n",
    "from sklearn.feature_extraction import text\n",
    "from sklearn.feature_extraction.text import TfidfVectorizer\n",
    "from sklearn.metrics import accuracy_score\n",
    "from sklearn.metrics import accuracy_score, confusion_matrix, roc_curve, roc_auc_score, classification_report, precision_recall_curve, average_precision_score \n",
    "from sklearn import metrics\n",
    "from sklearn.model_selection import KFold\n",
    "from sklearn.model_selection import GridSearchCV\n",
    "import warnings\n",
    "warnings.filterwarnings('ignore')"
   ]
  },
  {
   "cell_type": "markdown",
   "metadata": {},
   "source": [
    "# Scraping Websites"
   ]
  },
  {
   "cell_type": "markdown",
   "metadata": {},
   "source": [
    "### Link Websites"
   ]
  },
  {
   "cell_type": "code",
   "execution_count": 47,
   "metadata": {},
   "outputs": [],
   "source": [
    "url = 'https://quotes.toscrape.com'#เป็นlinkที่จะนำไปใช้ในการทำ Web Scraping"
   ]
  },
  {
   "cell_type": "markdown",
   "metadata": {},
   "source": [
    "### Function scraping web & save data in text file"
   ]
  },
  {
   "cell_type": "code",
   "execution_count": 48,
   "metadata": {},
   "outputs": [],
   "source": [
    "listC_texts=[]#เป็นlistที่ทำการเก็บquotesเอาไว้เพื่อเตรียมจะเขียนลงไปในfile Quoet_content.text\n",
    "listT_texts = []#เป็นlistที่ทำการเก็บquotesเอาไว้เพื่อเตรียมจะเขียนลงไปในfile target.text\n",
    "'''\n",
    "Fuction responde เป็นfunctionที่ทำการไปดึงข้อมูลหน้าออกมาอยู่ในรูปแบบของ Htmlformat\n",
    "\n",
    "Fuction target_text เป็นfunctionท่ีทำการดึงเฉพาะข้อมูลtag ของแต่ละquotes มาเก็บไว้ในlistT_texts เพื่อเตรียมส่งไปsave \n",
    "ไว้ในtarget.text\n",
    "\n",
    "Fuction content_text เป็นfunctionท่ีทำการดึงเฉพาะข้อมูลเนื้อหาของquotes และ ชื่อคนเขียนมาเก็บไว้ลงในlistlistC_textsเพื่อเตรียมส่ง\n",
    "ไปsave ไว้ในQuoet_content.text\n",
    "\n",
    "Fuction savetext เป็นfunctionท่ีทำการนำข้อมูลจากlistC_texts และ listT_texts มาsave เป็น Quoet_content.text and target.text\n",
    "ตามลำดับ\n",
    "'''\n",
    "def responde(url):#def responde จะทำการรับค่า url เข้ามาใช้\n",
    "    response = requests.get(url)#เป็นการgetข้อมูลหน้าเว็บเข้ามาเก็บใน ตัวแปล response\n",
    "    html_page = bs4.BeautifulSoup(response.content, 'lxml') #เราก็ใช้ BeautifulSoup ในการแปลงเนื้อหาข้อมูลที่ดึงมาเป็นรูปแบบHtml\n",
    "    target_text(html_page)#เราก็ทำการเรียกใช้fuction target_text เพื่อส่งค่าเนื้อหาข้อมูลที่ดึงมาไปดึงข้อมูลtags \n",
    "    content_text(html_page)#เราก็ทำการเรียกใช้fuction content_text เพื่อส่งค่าเนื้อหาข้อมูลที่ดึงมาไปดึงเนื้อหาquotesและชื่อคนเขียน\n",
    "    selecter = 'li.next > a'#เป็นการสร้างเงื่อนไขว่าเราจะดึงข้อมูลจากtagHtml li ที่มีclass=next ที่เป็นtag ประเภท <a>\n",
    "    tag = html_page.select_one(selecter)#เป็นการเอาเงื่อไขที่กำหนดไว้ไปดึงข้อมูลของ href ใน <a> เพื่อนำไปใช้linkไปหน้าเว็บต่อไป \n",
    "    while tag != None:#เป็นการloopเพื่อจะเข้าไปยังหน้าเว็บต่อไป\n",
    "            url='https://quotes.toscrape.com'+tag['href']#เป็นการสร้างurlหน้าเว็บต่อไปที่จะดึง\n",
    "            response = requests.get(url)\n",
    "            html_page = bs4.BeautifulSoup(response.content, 'lxml')\n",
    "            target_text(html_page)\n",
    "            content_text(html_page)\n",
    "            selecter = 'li.next > a'\n",
    "            tag = html_page.select_one(selecter)\n",
    "\n",
    "\n",
    "def target_text(html_page):#def target_text จะทำการรับค่า html_page เข้ามาใช้\n",
    "    selecter = 'div.tags>meta.keywords'#เป็นการสร้างเงื่อนไข้เพื่อดึงข้อมูลtagของเนื้อหาquotesนั้นๆ\n",
    "    tag = html_page.select(selecter)#จะเป็นlist ข้อมูลที่ผ่านเงื่อนไขของการดึงtagHtml\n",
    "    for i in tag:#ทำการloopเพื่อดึงข้อมูล ของ tagของเนื้อหาquotesนั้นๆ\n",
    "        listT_texts.append(i['content'])#ทำการเก็บtagของเนื้อหาquotesนั้นๆลงในlist\n",
    "        \n",
    "        \n",
    "        \n",
    "def content_text(html_page):# def content_text ทำการรับค่า ข้อมูลหน้าเว็บที่เป็นhtml เข้ามา\n",
    "    selecter = 'div.quote > span'#เป็นการสร้างเงื่อนไข้เพื่อดึงข้อมูลเนื้อหาquotes และ ชื่อผู้เขียน\n",
    "    tag = html_page.select(selecter)#จะเป็นlist ข้อมูลที่ผ่านเงื่อนไขของการดึงข้อมูลเนื้อหาquotes และ ชื่อผู้เขียน\n",
    "    for i in range(len(tag)):#เป็นการloop ต่ามจำนวนline taghtml ที่ดึงมา\n",
    "        if i % 2 == 0:#เป็นการทำเพื่อจะดึงเอาข้อมูลในส่วนของเนื้อหาquotes\n",
    "            a = tag[i].text[1:-2]#เป็นการดึงข้อมูลเนื้อหาqoutes ออกมาเเละทำการลบ \" \" หน้าหลังออกไป\n",
    "        else:\n",
    "            a += \" \"+'By'+tag[i].text[2:-8].rstrip()#เป็นการดึงข้อมูลที่เป็นในส้วนของ ชื่อคนเขียนและทำการตัด \" (about)\" ออกไป\n",
    "            listC_texts.append(a)#เป็นการนำข้อมูลหลังจากที่ดึง เนื้อหาquotes มาต่อกับ ชื่อคนเขียนเสร็จนำไปเก็บไว้ในlist\n",
    "\n",
    "\n",
    "\n",
    "\n",
    "def savetext(listC_texts,listT_texts):# def savetext จะรับค่าlistC_texts,listT_texts\n",
    "    file = open('data/Quoet_content.text','w')#เป็นการสร้างfile Quoet_content.textและเข้าไปเพื่อทำการเขียนข้อมูล\n",
    "    file2 = open('target/target.text','w')#เป็นการสร้างfile target.textและเข้าไปเพื่อทำการเขียนข้อมูล\n",
    "    for c in listC_texts:#ทำการloopในlistข้อมูลเพื่อจะทำการเขียนลงไปในfile\n",
    "        file.write(c+ \"\\n\")#นำlistC_textsลงไปเขียนในQuoet_content.text\n",
    "    file.close()#เป็นการออกจากfile Quoet_content.text\n",
    "    for t in listT_texts:#ทำการloopในlistข้อมูลเพื่อจะทำการเขียนลงไปในfile\n",
    "        file2.write(t+ \"\\n\")#นำlistC_textsลงไปเขียนในtarget.text\n",
    "    file2.close()#เป็นการออกจากfile target.text\n",
    "    \n",
    "responde(url)\n",
    "savetext(listC_texts,listT_texts)"
   ]
  },
  {
   "cell_type": "markdown",
   "metadata": {},
   "source": [
    "# Load Data File & Create DataFrame\n",
    "    เป็นขั้นตอนในการนำข้อมูลที่เก็บได้จากการดึงข้อมูลมาทำการโหลดเข้าเพื่อใช้ในการสร้าง Data frame"
   ]
  },
  {
   "cell_type": "markdown",
   "metadata": {},
   "source": [
    "### Load data File"
   ]
  },
  {
   "cell_type": "code",
   "execution_count": 49,
   "metadata": {},
   "outputs": [],
   "source": [
    "'''\n",
    "อันนี้คือการLoadfile Quoet_content.text มาและทำการแยกข้อมูลระหว่าง ข้อมูลเนื้อหา กับ ชื่อผู้เขียน\n",
    "ให้อยู่ในlistเพื่อเตรียมนำเข้าDataframe\n",
    "'''\n",
    "composer = []#เป็นlistที่เก็บข้อมูลชื่อผู้เขียนเอาไว้\n",
    "content_text = []#เป็นlistที่เก็บข้อมูลเนื้อหาเอาไว้\n",
    "file_content = open('data/Quoet_content.text','r')#เป็นการเปิดอ่านfile Quoet_content.text\n",
    "for i in file_content:#เป็นการloob ดึงของมูลแต่ละแถว\n",
    "    text = i.rstrip()#เป็นการกำจัด\\nด้านหลัง\n",
    "    content_text.append(text.split('By')[0])#เป็นการแบ่งข้อมูลโดยใช้ byเป็นตัวแยกโดยเราเอาแค่ข้อมูลเนื้อหาของquotesเก็บลงcontent_text\n",
    "    composer.append(text.split('By')[1])#เป็นการแบ่งข้อมูลโดยใช้ byเป็นตัวแยกโดยเราเอาแค่ข้อมูลชื่อผู้แต่งเก็บลงcomposerlist\n",
    "file_content.close()#ทำการออกจากfile"
   ]
  },
  {
   "cell_type": "code",
   "execution_count": 50,
   "metadata": {},
   "outputs": [],
   "source": [
    "'''\n",
    "อันนี้คือการLoadfile target.text มาและทำการแยกtag ในแต่ละบันทัดมาเพื่อเก็บจำนวนความถี่ของแต่ละtag เก็บในรูปแบบdict\n",
    "'''\n",
    "line_of_word=[]#เป็นlist ที่เอาไว้เก็บtagแยกเป็นตัวๆของบันทัดนั้นๆ\n",
    "word=[]#list ที่เอาไว้รวมtag ทั้งหมดที่มีเพื่อจะนำไปใช้ในการนับจำนวนtagที่ใช้ไป\n",
    "file_target = open('target/target.text','r')#เป็นการอ่านfile target.text\n",
    "counts = {}#dict ที่ใช้เก็บชื่อคำศัพท์และเก็บความถี่ที่เจอtagนั้นๆ\n",
    "for i in file_target:#เป็นการดึงข้อมูลทีละบันทัด\n",
    "    line_of_word.append(i.rstrip().split(','))#และทำการแบ่งคำโดยแบ่งตรงที่มี , \n",
    "for i in line_of_word:#looptag ข้อมูลแต่ละแถวที่ผ่านการแบ่งแล้ว\n",
    "    for j in i:#loop listคำศัพท์ในแถวนั้นๆ\n",
    "        word.append(j)#เอาคำศัพท์ไปเก็บเอาไว้\n",
    "for i in set(word):#loop set ของคำศัพท์ไม่ซ้ำเพื่อเอาไปทำเป็นkey\n",
    "    if i != '':#โดยที่เราไม่นับ tag ว่าง\n",
    "        counts[i]=word.count(i)#เป็นการจัดเก็บtag แต่ละอันว่ามีการเรียกใช้ไปเท่าไร\n",
    "sorts = sorted(counts.items(),key=lambda x: x[1],reverse=True)#เป็นการsorted ข้อมูลsetโดยเรียงจากมากไปน้อย\n",
    "tag_use = []#เป็นlist ที่เอาไว้ใช้เก็บtag ที่มีมากสุด 15 อันดับcรกโดยถ้ามีจำนวนเท่ากันจะเรียงตามตัวอักษร\n",
    "for i in sorts[:15]:#loop เอาแค่ข้อมูล15ตัวแรก\n",
    "    tag_use.append(i[0])#เป็นการนำชื่อtag ไปเก็บในlist\n",
    "file_target.close()#ออกจากfile"
   ]
  },
  {
   "cell_type": "markdown",
   "metadata": {},
   "source": [
    "### Create DataFrame"
   ]
  },
  {
   "cell_type": "markdown",
   "metadata": {},
   "source": [
    "#### dataframe cotent"
   ]
  },
  {
   "cell_type": "code",
   "execution_count": 51,
   "metadata": {},
   "outputs": [
    {
     "data": {
      "text/html": [
       "<div>\n",
       "<style scoped>\n",
       "    .dataframe tbody tr th:only-of-type {\n",
       "        vertical-align: middle;\n",
       "    }\n",
       "\n",
       "    .dataframe tbody tr th {\n",
       "        vertical-align: top;\n",
       "    }\n",
       "\n",
       "    .dataframe thead th {\n",
       "        text-align: right;\n",
       "    }\n",
       "</style>\n",
       "<table border=\"1\" class=\"dataframe\">\n",
       "  <thead>\n",
       "    <tr style=\"text-align: right;\">\n",
       "      <th></th>\n",
       "      <th>quotes</th>\n",
       "      <th>composer</th>\n",
       "    </tr>\n",
       "  </thead>\n",
       "  <tbody>\n",
       "    <tr>\n",
       "      <th>0</th>\n",
       "      <td>The world as we have created it is a process o...</td>\n",
       "      <td>Albert Einstein</td>\n",
       "    </tr>\n",
       "    <tr>\n",
       "      <th>1</th>\n",
       "      <td>It is our choices, Harry, that show what we tr...</td>\n",
       "      <td>J.K. Rowling</td>\n",
       "    </tr>\n",
       "    <tr>\n",
       "      <th>2</th>\n",
       "      <td>There are only two ways to live your life. One...</td>\n",
       "      <td>Albert Einstein</td>\n",
       "    </tr>\n",
       "    <tr>\n",
       "      <th>3</th>\n",
       "      <td>The person, be it gentleman or lady, who has n...</td>\n",
       "      <td>Jane Austen</td>\n",
       "    </tr>\n",
       "    <tr>\n",
       "      <th>4</th>\n",
       "      <td>Imperfection is beauty, madness is genius and ...</td>\n",
       "      <td>Marilyn Monroe</td>\n",
       "    </tr>\n",
       "    <tr>\n",
       "      <th>...</th>\n",
       "      <td>...</td>\n",
       "      <td>...</td>\n",
       "    </tr>\n",
       "    <tr>\n",
       "      <th>95</th>\n",
       "      <td>You never really understand a person until you...</td>\n",
       "      <td>Harper Lee</td>\n",
       "    </tr>\n",
       "    <tr>\n",
       "      <th>96</th>\n",
       "      <td>You have to write the book that wants to be wr...</td>\n",
       "      <td>Madeleine L'Engle</td>\n",
       "    </tr>\n",
       "    <tr>\n",
       "      <th>97</th>\n",
       "      <td>Never tell the truth to people who are not wor...</td>\n",
       "      <td>Mark Twain</td>\n",
       "    </tr>\n",
       "    <tr>\n",
       "      <th>98</th>\n",
       "      <td>A person's a person, no matter how small</td>\n",
       "      <td>Dr. Seuss</td>\n",
       "    </tr>\n",
       "    <tr>\n",
       "      <th>99</th>\n",
       "      <td>... a mind needs books as a sword needs a whet...</td>\n",
       "      <td>George R.R. Martin</td>\n",
       "    </tr>\n",
       "  </tbody>\n",
       "</table>\n",
       "<p>100 rows × 2 columns</p>\n",
       "</div>"
      ],
      "text/plain": [
       "                                               quotes             composer\n",
       "0   The world as we have created it is a process o...      Albert Einstein\n",
       "1   It is our choices, Harry, that show what we tr...         J.K. Rowling\n",
       "2   There are only two ways to live your life. One...      Albert Einstein\n",
       "3   The person, be it gentleman or lady, who has n...          Jane Austen\n",
       "4   Imperfection is beauty, madness is genius and ...       Marilyn Monroe\n",
       "..                                                ...                  ...\n",
       "95  You never really understand a person until you...           Harper Lee\n",
       "96  You have to write the book that wants to be wr...    Madeleine L'Engle\n",
       "97  Never tell the truth to people who are not wor...           Mark Twain\n",
       "98          A person's a person, no matter how small             Dr. Seuss\n",
       "99  ... a mind needs books as a sword needs a whet...   George R.R. Martin\n",
       "\n",
       "[100 rows x 2 columns]"
      ]
     },
     "execution_count": 51,
     "metadata": {},
     "output_type": "execute_result"
    }
   ],
   "source": [
    "'''\n",
    "เป็นการสร้างdataframe ในส่วนของข้อมูล quotes และ composer\n",
    "'''\n",
    "df = pd.DataFrame({\"quotes\":content_text ,\n",
    "                  \"composer\":composer})\n",
    "df"
   ]
  },
  {
   "cell_type": "markdown",
   "metadata": {},
   "source": [
    "#### dataframe target"
   ]
  },
  {
   "cell_type": "code",
   "execution_count": 52,
   "metadata": {},
   "outputs": [
    {
     "data": {
      "text/html": [
       "<div>\n",
       "<style scoped>\n",
       "    .dataframe tbody tr th:only-of-type {\n",
       "        vertical-align: middle;\n",
       "    }\n",
       "\n",
       "    .dataframe tbody tr th {\n",
       "        vertical-align: top;\n",
       "    }\n",
       "\n",
       "    .dataframe thead th {\n",
       "        text-align: right;\n",
       "    }\n",
       "</style>\n",
       "<table border=\"1\" class=\"dataframe\">\n",
       "  <thead>\n",
       "    <tr style=\"text-align: right;\">\n",
       "      <th></th>\n",
       "      <th>love</th>\n",
       "      <th>inspirational</th>\n",
       "      <th>life</th>\n",
       "      <th>humor</th>\n",
       "      <th>books</th>\n",
       "      <th>reading</th>\n",
       "      <th>friendship</th>\n",
       "      <th>friends</th>\n",
       "      <th>truth</th>\n",
       "      <th>simile</th>\n",
       "      <th>attributed-no-source</th>\n",
       "      <th>writing</th>\n",
       "      <th>death</th>\n",
       "      <th>music</th>\n",
       "      <th>learning</th>\n",
       "    </tr>\n",
       "  </thead>\n",
       "  <tbody>\n",
       "    <tr>\n",
       "      <th>0</th>\n",
       "      <td>0</td>\n",
       "      <td>0</td>\n",
       "      <td>0</td>\n",
       "      <td>0</td>\n",
       "      <td>0</td>\n",
       "      <td>0</td>\n",
       "      <td>0</td>\n",
       "      <td>0</td>\n",
       "      <td>0</td>\n",
       "      <td>0</td>\n",
       "      <td>0</td>\n",
       "      <td>0</td>\n",
       "      <td>0</td>\n",
       "      <td>0</td>\n",
       "      <td>0</td>\n",
       "    </tr>\n",
       "    <tr>\n",
       "      <th>1</th>\n",
       "      <td>0</td>\n",
       "      <td>0</td>\n",
       "      <td>0</td>\n",
       "      <td>0</td>\n",
       "      <td>0</td>\n",
       "      <td>0</td>\n",
       "      <td>0</td>\n",
       "      <td>0</td>\n",
       "      <td>0</td>\n",
       "      <td>0</td>\n",
       "      <td>0</td>\n",
       "      <td>0</td>\n",
       "      <td>0</td>\n",
       "      <td>0</td>\n",
       "      <td>0</td>\n",
       "    </tr>\n",
       "    <tr>\n",
       "      <th>2</th>\n",
       "      <td>0</td>\n",
       "      <td>1</td>\n",
       "      <td>1</td>\n",
       "      <td>0</td>\n",
       "      <td>0</td>\n",
       "      <td>0</td>\n",
       "      <td>0</td>\n",
       "      <td>0</td>\n",
       "      <td>0</td>\n",
       "      <td>0</td>\n",
       "      <td>0</td>\n",
       "      <td>0</td>\n",
       "      <td>0</td>\n",
       "      <td>0</td>\n",
       "      <td>0</td>\n",
       "    </tr>\n",
       "    <tr>\n",
       "      <th>3</th>\n",
       "      <td>0</td>\n",
       "      <td>0</td>\n",
       "      <td>0</td>\n",
       "      <td>1</td>\n",
       "      <td>1</td>\n",
       "      <td>0</td>\n",
       "      <td>0</td>\n",
       "      <td>0</td>\n",
       "      <td>0</td>\n",
       "      <td>0</td>\n",
       "      <td>0</td>\n",
       "      <td>0</td>\n",
       "      <td>0</td>\n",
       "      <td>0</td>\n",
       "      <td>0</td>\n",
       "    </tr>\n",
       "    <tr>\n",
       "      <th>4</th>\n",
       "      <td>0</td>\n",
       "      <td>1</td>\n",
       "      <td>0</td>\n",
       "      <td>0</td>\n",
       "      <td>0</td>\n",
       "      <td>0</td>\n",
       "      <td>0</td>\n",
       "      <td>0</td>\n",
       "      <td>0</td>\n",
       "      <td>0</td>\n",
       "      <td>0</td>\n",
       "      <td>0</td>\n",
       "      <td>0</td>\n",
       "      <td>0</td>\n",
       "      <td>0</td>\n",
       "    </tr>\n",
       "    <tr>\n",
       "      <th>...</th>\n",
       "      <td>...</td>\n",
       "      <td>...</td>\n",
       "      <td>...</td>\n",
       "      <td>...</td>\n",
       "      <td>...</td>\n",
       "      <td>...</td>\n",
       "      <td>...</td>\n",
       "      <td>...</td>\n",
       "      <td>...</td>\n",
       "      <td>...</td>\n",
       "      <td>...</td>\n",
       "      <td>...</td>\n",
       "      <td>...</td>\n",
       "      <td>...</td>\n",
       "      <td>...</td>\n",
       "    </tr>\n",
       "    <tr>\n",
       "      <th>95</th>\n",
       "      <td>0</td>\n",
       "      <td>0</td>\n",
       "      <td>0</td>\n",
       "      <td>0</td>\n",
       "      <td>0</td>\n",
       "      <td>0</td>\n",
       "      <td>0</td>\n",
       "      <td>0</td>\n",
       "      <td>0</td>\n",
       "      <td>0</td>\n",
       "      <td>0</td>\n",
       "      <td>0</td>\n",
       "      <td>0</td>\n",
       "      <td>0</td>\n",
       "      <td>0</td>\n",
       "    </tr>\n",
       "    <tr>\n",
       "      <th>96</th>\n",
       "      <td>0</td>\n",
       "      <td>0</td>\n",
       "      <td>0</td>\n",
       "      <td>0</td>\n",
       "      <td>1</td>\n",
       "      <td>0</td>\n",
       "      <td>0</td>\n",
       "      <td>0</td>\n",
       "      <td>0</td>\n",
       "      <td>0</td>\n",
       "      <td>0</td>\n",
       "      <td>1</td>\n",
       "      <td>0</td>\n",
       "      <td>0</td>\n",
       "      <td>0</td>\n",
       "    </tr>\n",
       "    <tr>\n",
       "      <th>97</th>\n",
       "      <td>0</td>\n",
       "      <td>0</td>\n",
       "      <td>0</td>\n",
       "      <td>0</td>\n",
       "      <td>0</td>\n",
       "      <td>0</td>\n",
       "      <td>0</td>\n",
       "      <td>0</td>\n",
       "      <td>1</td>\n",
       "      <td>0</td>\n",
       "      <td>0</td>\n",
       "      <td>0</td>\n",
       "      <td>0</td>\n",
       "      <td>0</td>\n",
       "      <td>0</td>\n",
       "    </tr>\n",
       "    <tr>\n",
       "      <th>98</th>\n",
       "      <td>0</td>\n",
       "      <td>1</td>\n",
       "      <td>0</td>\n",
       "      <td>0</td>\n",
       "      <td>0</td>\n",
       "      <td>0</td>\n",
       "      <td>0</td>\n",
       "      <td>0</td>\n",
       "      <td>0</td>\n",
       "      <td>0</td>\n",
       "      <td>0</td>\n",
       "      <td>0</td>\n",
       "      <td>0</td>\n",
       "      <td>0</td>\n",
       "      <td>0</td>\n",
       "    </tr>\n",
       "    <tr>\n",
       "      <th>99</th>\n",
       "      <td>0</td>\n",
       "      <td>0</td>\n",
       "      <td>0</td>\n",
       "      <td>0</td>\n",
       "      <td>1</td>\n",
       "      <td>0</td>\n",
       "      <td>0</td>\n",
       "      <td>0</td>\n",
       "      <td>0</td>\n",
       "      <td>0</td>\n",
       "      <td>0</td>\n",
       "      <td>0</td>\n",
       "      <td>0</td>\n",
       "      <td>0</td>\n",
       "      <td>0</td>\n",
       "    </tr>\n",
       "  </tbody>\n",
       "</table>\n",
       "<p>100 rows × 15 columns</p>\n",
       "</div>"
      ],
      "text/plain": [
       "    love  inspirational  life  humor  books  reading  friendship  friends  \\\n",
       "0      0              0     0      0      0        0           0        0   \n",
       "1      0              0     0      0      0        0           0        0   \n",
       "2      0              1     1      0      0        0           0        0   \n",
       "3      0              0     0      1      1        0           0        0   \n",
       "4      0              1     0      0      0        0           0        0   \n",
       "..   ...            ...   ...    ...    ...      ...         ...      ...   \n",
       "95     0              0     0      0      0        0           0        0   \n",
       "96     0              0     0      0      1        0           0        0   \n",
       "97     0              0     0      0      0        0           0        0   \n",
       "98     0              1     0      0      0        0           0        0   \n",
       "99     0              0     0      0      1        0           0        0   \n",
       "\n",
       "    truth  simile  attributed-no-source  writing  death  music  learning  \n",
       "0       0       0                     0        0      0      0         0  \n",
       "1       0       0                     0        0      0      0         0  \n",
       "2       0       0                     0        0      0      0         0  \n",
       "3       0       0                     0        0      0      0         0  \n",
       "4       0       0                     0        0      0      0         0  \n",
       "..    ...     ...                   ...      ...    ...    ...       ...  \n",
       "95      0       0                     0        0      0      0         0  \n",
       "96      0       0                     0        1      0      0         0  \n",
       "97      1       0                     0        0      0      0         0  \n",
       "98      0       0                     0        0      0      0         0  \n",
       "99      0       0                     0        0      0      0         0  \n",
       "\n",
       "[100 rows x 15 columns]"
      ]
     },
     "execution_count": 52,
     "metadata": {},
     "output_type": "execute_result"
    }
   ],
   "source": [
    "#สร้างdataframe target \n",
    "'''\n",
    "จะเป็นการนำข้อมูลที่เราเก็บtag มาทำการตรวจดูว่าในข้อมูลquotes นั้นๆว่ามีอยู่ในtagtop 15 หรือไม่\n",
    "'''\n",
    "data={}#set ที่เก็บข้อมูลtagเพ่ือเอาไว้ใช้ในการสร้างdata frame\n",
    "array=[]#เป็นlist เก็บค่าtag15tagเพื่อจะนำไปcheckว่าในเอกการมีtag ไหนบ้าง\n",
    "for zero in range(100):#เป็นการloop ตามจำนวน row เพื่อใส่ค่า tag ให้เป็น 0 \n",
    "    array.append(0)#เป็นการกำหนดค่า false = 0 and True = 1ที่เป็นค่า false ทั้งหมดก่อนเพื่อจะนำไปเช็คว่าในแต่ละdocumentมีtag อะไรบ้างทีหลัง\n",
    "for i in tag_use:#loop เพื่อใส่ ค่าที่setไว้ในarrayลงในdataเพื่อนำมาสร้างdata frame\n",
    "    data[i]=array#เป็นการนำ array ลงไปใน data\n",
    "df_target = pd.DataFrame(data)#สร้างdataframe tagยอดนิยม 15 อันแรก\n",
    "\n",
    "'''\n",
    "เป็นการcheck tag ในแต่ละdocument ว่ามีtagที่อยู่ในtag ยอดนิยม15 อันดับแรกหรือป่าว\n",
    "'''\n",
    "file = open('target/target.text','r')#เปิดfile เพื่อที่เราจะมาทำการcheck tag ในแต่ละdocument ว่ามีtag อยู่ใน15 tag บ้างไหม \n",
    "count = 0 # เป็นการนับแถวที่จะนำค่า 1 ไปใส่ในdata frame\n",
    "for i in file:#เป็นการวน loop ค่าtagในdocument ที่เราเก็บtag ไว้ในแต่ละrow \n",
    "    for j in i.rstrip().split(','):#เป็นการloopในrowที่เราทำการแยกtag ออกจากกันเรียบร้อยแล้วเพื่อจะนำค่าtagในrow นั้น ไปcheckในแต่ละtag\n",
    "        if j in df_target.columns:#เป็นเงื่อนไขในการcheck ว่า tag ที่ดึงมาจาก file มีอยู่ใน tagยอดนิยม 15อันดับหรือป่าว\n",
    "            df_target[j][count]=1#เป็นการกำหนดค่า True เข้าไปเมื่อตรวจแล้วว่ามีtagนั้นอยู่\n",
    "    count += 1\n",
    "df_target"
   ]
  },
  {
   "cell_type": "code",
   "execution_count": 53,
   "metadata": {},
   "outputs": [
    {
     "data": {
      "text/html": [
       "<div>\n",
       "<style scoped>\n",
       "    .dataframe tbody tr th:only-of-type {\n",
       "        vertical-align: middle;\n",
       "    }\n",
       "\n",
       "    .dataframe tbody tr th {\n",
       "        vertical-align: top;\n",
       "    }\n",
       "\n",
       "    .dataframe thead th {\n",
       "        text-align: right;\n",
       "    }\n",
       "</style>\n",
       "<table border=\"1\" class=\"dataframe\">\n",
       "  <thead>\n",
       "    <tr style=\"text-align: right;\">\n",
       "      <th></th>\n",
       "      <th>quotes</th>\n",
       "      <th>composer</th>\n",
       "      <th>love</th>\n",
       "      <th>inspirational</th>\n",
       "      <th>life</th>\n",
       "      <th>humor</th>\n",
       "      <th>books</th>\n",
       "      <th>reading</th>\n",
       "      <th>friendship</th>\n",
       "      <th>friends</th>\n",
       "      <th>truth</th>\n",
       "      <th>simile</th>\n",
       "      <th>attributed-no-source</th>\n",
       "      <th>writing</th>\n",
       "      <th>death</th>\n",
       "      <th>music</th>\n",
       "      <th>learning</th>\n",
       "    </tr>\n",
       "  </thead>\n",
       "  <tbody>\n",
       "    <tr>\n",
       "      <th>0</th>\n",
       "      <td>The world as we have created it is a process o...</td>\n",
       "      <td>Albert Einstein</td>\n",
       "      <td>0</td>\n",
       "      <td>0</td>\n",
       "      <td>0</td>\n",
       "      <td>0</td>\n",
       "      <td>0</td>\n",
       "      <td>0</td>\n",
       "      <td>0</td>\n",
       "      <td>0</td>\n",
       "      <td>0</td>\n",
       "      <td>0</td>\n",
       "      <td>0</td>\n",
       "      <td>0</td>\n",
       "      <td>0</td>\n",
       "      <td>0</td>\n",
       "      <td>0</td>\n",
       "    </tr>\n",
       "    <tr>\n",
       "      <th>1</th>\n",
       "      <td>It is our choices, Harry, that show what we tr...</td>\n",
       "      <td>J.K. Rowling</td>\n",
       "      <td>0</td>\n",
       "      <td>0</td>\n",
       "      <td>0</td>\n",
       "      <td>0</td>\n",
       "      <td>0</td>\n",
       "      <td>0</td>\n",
       "      <td>0</td>\n",
       "      <td>0</td>\n",
       "      <td>0</td>\n",
       "      <td>0</td>\n",
       "      <td>0</td>\n",
       "      <td>0</td>\n",
       "      <td>0</td>\n",
       "      <td>0</td>\n",
       "      <td>0</td>\n",
       "    </tr>\n",
       "    <tr>\n",
       "      <th>2</th>\n",
       "      <td>There are only two ways to live your life. One...</td>\n",
       "      <td>Albert Einstein</td>\n",
       "      <td>0</td>\n",
       "      <td>1</td>\n",
       "      <td>1</td>\n",
       "      <td>0</td>\n",
       "      <td>0</td>\n",
       "      <td>0</td>\n",
       "      <td>0</td>\n",
       "      <td>0</td>\n",
       "      <td>0</td>\n",
       "      <td>0</td>\n",
       "      <td>0</td>\n",
       "      <td>0</td>\n",
       "      <td>0</td>\n",
       "      <td>0</td>\n",
       "      <td>0</td>\n",
       "    </tr>\n",
       "    <tr>\n",
       "      <th>3</th>\n",
       "      <td>The person, be it gentleman or lady, who has n...</td>\n",
       "      <td>Jane Austen</td>\n",
       "      <td>0</td>\n",
       "      <td>0</td>\n",
       "      <td>0</td>\n",
       "      <td>1</td>\n",
       "      <td>1</td>\n",
       "      <td>0</td>\n",
       "      <td>0</td>\n",
       "      <td>0</td>\n",
       "      <td>0</td>\n",
       "      <td>0</td>\n",
       "      <td>0</td>\n",
       "      <td>0</td>\n",
       "      <td>0</td>\n",
       "      <td>0</td>\n",
       "      <td>0</td>\n",
       "    </tr>\n",
       "    <tr>\n",
       "      <th>4</th>\n",
       "      <td>Imperfection is beauty, madness is genius and ...</td>\n",
       "      <td>Marilyn Monroe</td>\n",
       "      <td>0</td>\n",
       "      <td>1</td>\n",
       "      <td>0</td>\n",
       "      <td>0</td>\n",
       "      <td>0</td>\n",
       "      <td>0</td>\n",
       "      <td>0</td>\n",
       "      <td>0</td>\n",
       "      <td>0</td>\n",
       "      <td>0</td>\n",
       "      <td>0</td>\n",
       "      <td>0</td>\n",
       "      <td>0</td>\n",
       "      <td>0</td>\n",
       "      <td>0</td>\n",
       "    </tr>\n",
       "    <tr>\n",
       "      <th>...</th>\n",
       "      <td>...</td>\n",
       "      <td>...</td>\n",
       "      <td>...</td>\n",
       "      <td>...</td>\n",
       "      <td>...</td>\n",
       "      <td>...</td>\n",
       "      <td>...</td>\n",
       "      <td>...</td>\n",
       "      <td>...</td>\n",
       "      <td>...</td>\n",
       "      <td>...</td>\n",
       "      <td>...</td>\n",
       "      <td>...</td>\n",
       "      <td>...</td>\n",
       "      <td>...</td>\n",
       "      <td>...</td>\n",
       "      <td>...</td>\n",
       "    </tr>\n",
       "    <tr>\n",
       "      <th>95</th>\n",
       "      <td>You never really understand a person until you...</td>\n",
       "      <td>Harper Lee</td>\n",
       "      <td>0</td>\n",
       "      <td>0</td>\n",
       "      <td>0</td>\n",
       "      <td>0</td>\n",
       "      <td>0</td>\n",
       "      <td>0</td>\n",
       "      <td>0</td>\n",
       "      <td>0</td>\n",
       "      <td>0</td>\n",
       "      <td>0</td>\n",
       "      <td>0</td>\n",
       "      <td>0</td>\n",
       "      <td>0</td>\n",
       "      <td>0</td>\n",
       "      <td>0</td>\n",
       "    </tr>\n",
       "    <tr>\n",
       "      <th>96</th>\n",
       "      <td>You have to write the book that wants to be wr...</td>\n",
       "      <td>Madeleine L'Engle</td>\n",
       "      <td>0</td>\n",
       "      <td>0</td>\n",
       "      <td>0</td>\n",
       "      <td>0</td>\n",
       "      <td>1</td>\n",
       "      <td>0</td>\n",
       "      <td>0</td>\n",
       "      <td>0</td>\n",
       "      <td>0</td>\n",
       "      <td>0</td>\n",
       "      <td>0</td>\n",
       "      <td>1</td>\n",
       "      <td>0</td>\n",
       "      <td>0</td>\n",
       "      <td>0</td>\n",
       "    </tr>\n",
       "    <tr>\n",
       "      <th>97</th>\n",
       "      <td>Never tell the truth to people who are not wor...</td>\n",
       "      <td>Mark Twain</td>\n",
       "      <td>0</td>\n",
       "      <td>0</td>\n",
       "      <td>0</td>\n",
       "      <td>0</td>\n",
       "      <td>0</td>\n",
       "      <td>0</td>\n",
       "      <td>0</td>\n",
       "      <td>0</td>\n",
       "      <td>1</td>\n",
       "      <td>0</td>\n",
       "      <td>0</td>\n",
       "      <td>0</td>\n",
       "      <td>0</td>\n",
       "      <td>0</td>\n",
       "      <td>0</td>\n",
       "    </tr>\n",
       "    <tr>\n",
       "      <th>98</th>\n",
       "      <td>A person's a person, no matter how small</td>\n",
       "      <td>Dr. Seuss</td>\n",
       "      <td>0</td>\n",
       "      <td>1</td>\n",
       "      <td>0</td>\n",
       "      <td>0</td>\n",
       "      <td>0</td>\n",
       "      <td>0</td>\n",
       "      <td>0</td>\n",
       "      <td>0</td>\n",
       "      <td>0</td>\n",
       "      <td>0</td>\n",
       "      <td>0</td>\n",
       "      <td>0</td>\n",
       "      <td>0</td>\n",
       "      <td>0</td>\n",
       "      <td>0</td>\n",
       "    </tr>\n",
       "    <tr>\n",
       "      <th>99</th>\n",
       "      <td>... a mind needs books as a sword needs a whet...</td>\n",
       "      <td>George R.R. Martin</td>\n",
       "      <td>0</td>\n",
       "      <td>0</td>\n",
       "      <td>0</td>\n",
       "      <td>0</td>\n",
       "      <td>1</td>\n",
       "      <td>0</td>\n",
       "      <td>0</td>\n",
       "      <td>0</td>\n",
       "      <td>0</td>\n",
       "      <td>0</td>\n",
       "      <td>0</td>\n",
       "      <td>0</td>\n",
       "      <td>0</td>\n",
       "      <td>0</td>\n",
       "      <td>0</td>\n",
       "    </tr>\n",
       "  </tbody>\n",
       "</table>\n",
       "<p>100 rows × 17 columns</p>\n",
       "</div>"
      ],
      "text/plain": [
       "                                               quotes             composer  \\\n",
       "0   The world as we have created it is a process o...      Albert Einstein   \n",
       "1   It is our choices, Harry, that show what we tr...         J.K. Rowling   \n",
       "2   There are only two ways to live your life. One...      Albert Einstein   \n",
       "3   The person, be it gentleman or lady, who has n...          Jane Austen   \n",
       "4   Imperfection is beauty, madness is genius and ...       Marilyn Monroe   \n",
       "..                                                ...                  ...   \n",
       "95  You never really understand a person until you...           Harper Lee   \n",
       "96  You have to write the book that wants to be wr...    Madeleine L'Engle   \n",
       "97  Never tell the truth to people who are not wor...           Mark Twain   \n",
       "98          A person's a person, no matter how small             Dr. Seuss   \n",
       "99  ... a mind needs books as a sword needs a whet...   George R.R. Martin   \n",
       "\n",
       "    love  inspirational  life  humor  books  reading  friendship  friends  \\\n",
       "0      0              0     0      0      0        0           0        0   \n",
       "1      0              0     0      0      0        0           0        0   \n",
       "2      0              1     1      0      0        0           0        0   \n",
       "3      0              0     0      1      1        0           0        0   \n",
       "4      0              1     0      0      0        0           0        0   \n",
       "..   ...            ...   ...    ...    ...      ...         ...      ...   \n",
       "95     0              0     0      0      0        0           0        0   \n",
       "96     0              0     0      0      1        0           0        0   \n",
       "97     0              0     0      0      0        0           0        0   \n",
       "98     0              1     0      0      0        0           0        0   \n",
       "99     0              0     0      0      1        0           0        0   \n",
       "\n",
       "    truth  simile  attributed-no-source  writing  death  music  learning  \n",
       "0       0       0                     0        0      0      0         0  \n",
       "1       0       0                     0        0      0      0         0  \n",
       "2       0       0                     0        0      0      0         0  \n",
       "3       0       0                     0        0      0      0         0  \n",
       "4       0       0                     0        0      0      0         0  \n",
       "..    ...     ...                   ...      ...    ...    ...       ...  \n",
       "95      0       0                     0        0      0      0         0  \n",
       "96      0       0                     0        1      0      0         0  \n",
       "97      1       0                     0        0      0      0         0  \n",
       "98      0       0                     0        0      0      0         0  \n",
       "99      0       0                     0        0      0      0         0  \n",
       "\n",
       "[100 rows x 17 columns]"
      ]
     },
     "execution_count": 53,
     "metadata": {},
     "output_type": "execute_result"
    }
   ],
   "source": [
    "'''\n",
    "เป็นการรวมกันระห่างdataframe ข้อมูลquotes , ชื่อผู้แต่ง กับ dataframe tagtop 15 เอาไว้ด้วยกัน \n",
    "'''\n",
    "df=pd.concat([df,df_target],axis=1)\n",
    "df"
   ]
  },
  {
   "cell_type": "markdown",
   "metadata": {},
   "source": [
    "# Data pre-prosess\n",
    "    เป็นกระบวนการในการเตรียมความพร้อมของข้อมูลโดยที่เราจะทำการนำข้อมูลที่ได้มาผ่านfunction clean_text ,sotpword and lemma_tokenizerเพื่อให้ข้อมูลมีความพร้อมจะนำไปใช้ในการทำbag of word เพื่อเข้าmodelในการทำนายต่อไป"
   ]
  },
  {
   "cell_type": "markdown",
   "metadata": {},
   "source": [
    "## เปลี่ยนแปลงตัวย่อกริยภาษาอังกฤษ"
   ]
  },
  {
   "cell_type": "code",
   "execution_count": 54,
   "metadata": {},
   "outputs": [
    {
     "name": "stdout",
     "output_type": "stream",
     "text": [
      "Success\n"
     ]
    }
   ],
   "source": [
    "'''\n",
    "เป็นการแปลงตัวกริยาย่อภาษาอังกฤษเป็นตัวเต็มโดยใช้regex \n",
    "'''\n",
    "import re\n",
    "def clean_text(text):\n",
    "    text = text.lower()#เป็นการแปลงตัวหนังสือภาษาอังกฤษให้เป็นตัวพิมพ์เล็ก\n",
    "    text = re.sub(r\"\\'ve\", \" have \", text)#เป็นการแปลง 've ให้เป็นคำว่า have\n",
    "    text = re.sub(r\"won't\", \" will not\", text)#เป็นการแปลง 've ให้เป็นคำว่า will not\n",
    "    text = re.sub(r\"n't\", \" not \", text)#เป็นการแปลง n't ให้เป็นคำว่า not\n",
    "    text = re.sub(r\"i'm\", \"i am \", text)#เป็นการแปลง i'm ให้เป็นคำว่า i am\n",
    "    text = re.sub(r\"i’m\", \"i am \", text)#เป็นการแปลง i’m ให้เป็นคำว่า i am\n",
    "    text = re.sub(r\"\\'re\", \" are \", text)#เป็นการแปลง 're ให้เป็นคำว่า are\n",
    "    text = re.sub(r\"\\'d\", \" would \", text)#เป็นการแปลง 'd ให้เป็นคำว่า would\n",
    "    text = re.sub(r\"\\'ll\", \" will \", text)#เป็นการแปลง 'll ให้เป็นคำว่า will\n",
    "    text = re.sub(r\"\\'s\", \"  \", text)#เป็นการแปลง 's ให้เป็นคำว่า ' '\n",
    "    return text\n",
    "data = []#list เก็บtext แต่ละrow\n",
    "for i in df['quotes']:# เป็นการloop row\n",
    "    data.append(clean_text(i))#เป็นการนำquotes แต่ละrow ไปทำการ clean\n",
    "print('Success')"
   ]
  },
  {
   "cell_type": "markdown",
   "metadata": {},
   "source": [
    "## Create Tokenz"
   ]
  },
  {
   "cell_type": "code",
   "execution_count": 55,
   "metadata": {},
   "outputs": [],
   "source": [
    "'''\n",
    "ขั้นตอนนี้จะเป็นการทำtokenหรือการตัดคำเพื่อที่จะเตรียมไปทำbag of word โดยในประโยคจะมีstop word หลังเราทำ token เสร็จเรียบร้อยแล้ว \n",
    "เราก็จะทำการนำstop wordในภาษาอังกฤษออกจากtokenด้วยเพราะมันไม่จำเป็นต่อการทำนายtag และทำให้ program ทำงานช้า และ ทำการเปลี่ยน\n",
    "คำศัพท์ให้การเป็นคำตั้งต้นโดยการทำ lemmatizer\n",
    "'''\n",
    "from sklearn.feature_extraction import text\n",
    "stopwords = text.ENGLISH_STOP_WORDS#เป็นการdownload คำstopword\n",
    "def sotpword(texts):#เป็น function ในการลบเอาstopword ออกจากtokenในตัวข้อมูลของเรา\n",
    "    standard_tokenizer = CountVectorizer().build_tokenizer()#เป็นการสร้างfunctionในการสร้างtoken\n",
    "    tokens = standard_tokenizer(texts)#เป็นการนำข้อมูล quotesมาทำการตัดคำ\n",
    "    text_tokens = []#list ที่ใช้เก็บคำที่ไม่มีsotpwordอยู่ในนั้นเพื่อเตรียมเอาเข้าbag of word\n",
    "    for token in tokens:#loop เพื่อดึงคำจากที่เราทำtokenไว้เพ่ือนำไปเช็คว่าคำไหนเป็นstop word\n",
    "        if not token in stopwords:#เงื่อนไขที่เอาไว้check ว่าคำไหนไม่ใช่stop word\n",
    "            text_tokens.append(token)#เก็บคำที่ไม่ใช้stop wordไว้ในlist\n",
    "    # add to the overall list\n",
    "    return text_tokens#คือค่าlisttoken ที่ไม่มีstop word\n",
    "def lemma_tokenizer(token):#เป็นการทำFunction lemmatizer เพื่อแปลงข้อมูลทั้งหมดเป็นรูปแบบเดียวกันในรูปแบบตั้งต้นคือไม่มีพวก s ,es หรือ ช่อง2\n",
    "    lemmatizer = nltk.stem.WordNetLemmatizer()#เป็นการสร้างfunction ในการแปลงคำ\n",
    "    lemma_tokens = []#listที่เก็บคำหลังจากท่ีแปลงผ่านfunctionแล้ว\n",
    "    for token in token:#loopเพื่อที่จะเอาคำไปแปลง\n",
    "        lemma_tokens.append(lemmatizer.lemmatize(token))#เป็นการแปลงคำศัพท์และนำเก็บลงlist lemma_tokens\n",
    "    return lemma_tokens"
   ]
  },
  {
   "cell_type": "code",
   "execution_count": 56,
   "metadata": {},
   "outputs": [],
   "source": [
    "'''\n",
    "เป็นการทำtokenizerสำหรับชื่อของคนเขียน\n",
    "'''\n",
    "def tokenizer(token):#เป็นfunction ในการสร้างtokenizer\n",
    "    tokenize = CountVectorizer().build_tokenizer()#เป็นการแบ่งคำเพื่อที่จะแบ่งชื่อคนและตัดตัวอักษรพิเศษออก\n",
    "    tokens1 = tokenize(token.lower())#นำข้อมูลเข้าไปทำการตัดคำและกำหนดให้เป็นตัวอักษรขนาดเล็ก\n",
    "    return tokens1"
   ]
  },
  {
   "cell_type": "code",
   "execution_count": 57,
   "metadata": {
    "scrolled": false
   },
   "outputs": [
    {
     "data": {
      "text/html": [
       "<div>\n",
       "<style scoped>\n",
       "    .dataframe tbody tr th:only-of-type {\n",
       "        vertical-align: middle;\n",
       "    }\n",
       "\n",
       "    .dataframe tbody tr th {\n",
       "        vertical-align: top;\n",
       "    }\n",
       "\n",
       "    .dataframe thead th {\n",
       "        text-align: right;\n",
       "    }\n",
       "</style>\n",
       "<table border=\"1\" class=\"dataframe\">\n",
       "  <thead>\n",
       "    <tr style=\"text-align: right;\">\n",
       "      <th></th>\n",
       "      <th>quotes</th>\n",
       "      <th>composer</th>\n",
       "      <th>love</th>\n",
       "      <th>inspirational</th>\n",
       "      <th>life</th>\n",
       "      <th>humor</th>\n",
       "      <th>books</th>\n",
       "      <th>reading</th>\n",
       "      <th>friendship</th>\n",
       "      <th>friends</th>\n",
       "      <th>truth</th>\n",
       "      <th>simile</th>\n",
       "      <th>attributed-no-source</th>\n",
       "      <th>writing</th>\n",
       "      <th>death</th>\n",
       "      <th>music</th>\n",
       "      <th>learning</th>\n",
       "    </tr>\n",
       "  </thead>\n",
       "  <tbody>\n",
       "    <tr>\n",
       "      <th>0</th>\n",
       "      <td>world created process thinking changed changin...</td>\n",
       "      <td>albert einstein</td>\n",
       "      <td>0</td>\n",
       "      <td>0</td>\n",
       "      <td>0</td>\n",
       "      <td>0</td>\n",
       "      <td>0</td>\n",
       "      <td>0</td>\n",
       "      <td>0</td>\n",
       "      <td>0</td>\n",
       "      <td>0</td>\n",
       "      <td>0</td>\n",
       "      <td>0</td>\n",
       "      <td>0</td>\n",
       "      <td>0</td>\n",
       "      <td>0</td>\n",
       "      <td>0</td>\n",
       "    </tr>\n",
       "    <tr>\n",
       "      <th>1</th>\n",
       "      <td>choice harry truly far ability</td>\n",
       "      <td>rowling</td>\n",
       "      <td>0</td>\n",
       "      <td>0</td>\n",
       "      <td>0</td>\n",
       "      <td>0</td>\n",
       "      <td>0</td>\n",
       "      <td>0</td>\n",
       "      <td>0</td>\n",
       "      <td>0</td>\n",
       "      <td>0</td>\n",
       "      <td>0</td>\n",
       "      <td>0</td>\n",
       "      <td>0</td>\n",
       "      <td>0</td>\n",
       "      <td>0</td>\n",
       "      <td>0</td>\n",
       "    </tr>\n",
       "    <tr>\n",
       "      <th>2</th>\n",
       "      <td>way live life miracle miracle</td>\n",
       "      <td>albert einstein</td>\n",
       "      <td>0</td>\n",
       "      <td>1</td>\n",
       "      <td>1</td>\n",
       "      <td>0</td>\n",
       "      <td>0</td>\n",
       "      <td>0</td>\n",
       "      <td>0</td>\n",
       "      <td>0</td>\n",
       "      <td>0</td>\n",
       "      <td>0</td>\n",
       "      <td>0</td>\n",
       "      <td>0</td>\n",
       "      <td>0</td>\n",
       "      <td>0</td>\n",
       "      <td>0</td>\n",
       "    </tr>\n",
       "    <tr>\n",
       "      <th>3</th>\n",
       "      <td>person gentleman lady pleasure good novel into...</td>\n",
       "      <td>jane austen</td>\n",
       "      <td>0</td>\n",
       "      <td>0</td>\n",
       "      <td>0</td>\n",
       "      <td>1</td>\n",
       "      <td>1</td>\n",
       "      <td>0</td>\n",
       "      <td>0</td>\n",
       "      <td>0</td>\n",
       "      <td>0</td>\n",
       "      <td>0</td>\n",
       "      <td>0</td>\n",
       "      <td>0</td>\n",
       "      <td>0</td>\n",
       "      <td>0</td>\n",
       "      <td>0</td>\n",
       "    </tr>\n",
       "    <tr>\n",
       "      <th>4</th>\n",
       "      <td>imperfection beauty madness genius better abso...</td>\n",
       "      <td>marilyn monroe</td>\n",
       "      <td>0</td>\n",
       "      <td>1</td>\n",
       "      <td>0</td>\n",
       "      <td>0</td>\n",
       "      <td>0</td>\n",
       "      <td>0</td>\n",
       "      <td>0</td>\n",
       "      <td>0</td>\n",
       "      <td>0</td>\n",
       "      <td>0</td>\n",
       "      <td>0</td>\n",
       "      <td>0</td>\n",
       "      <td>0</td>\n",
       "      <td>0</td>\n",
       "      <td>0</td>\n",
       "    </tr>\n",
       "    <tr>\n",
       "      <th>...</th>\n",
       "      <td>...</td>\n",
       "      <td>...</td>\n",
       "      <td>...</td>\n",
       "      <td>...</td>\n",
       "      <td>...</td>\n",
       "      <td>...</td>\n",
       "      <td>...</td>\n",
       "      <td>...</td>\n",
       "      <td>...</td>\n",
       "      <td>...</td>\n",
       "      <td>...</td>\n",
       "      <td>...</td>\n",
       "      <td>...</td>\n",
       "      <td>...</td>\n",
       "      <td>...</td>\n",
       "      <td>...</td>\n",
       "      <td>...</td>\n",
       "    </tr>\n",
       "    <tr>\n",
       "      <th>95</th>\n",
       "      <td>really understand person consider thing point ...</td>\n",
       "      <td>harper lee</td>\n",
       "      <td>0</td>\n",
       "      <td>0</td>\n",
       "      <td>0</td>\n",
       "      <td>0</td>\n",
       "      <td>0</td>\n",
       "      <td>0</td>\n",
       "      <td>0</td>\n",
       "      <td>0</td>\n",
       "      <td>0</td>\n",
       "      <td>0</td>\n",
       "      <td>0</td>\n",
       "      <td>0</td>\n",
       "      <td>0</td>\n",
       "      <td>0</td>\n",
       "      <td>0</td>\n",
       "    </tr>\n",
       "    <tr>\n",
       "      <th>96</th>\n",
       "      <td>write book want written book difficult grown u...</td>\n",
       "      <td>madeleine engle</td>\n",
       "      <td>0</td>\n",
       "      <td>0</td>\n",
       "      <td>0</td>\n",
       "      <td>0</td>\n",
       "      <td>1</td>\n",
       "      <td>0</td>\n",
       "      <td>0</td>\n",
       "      <td>0</td>\n",
       "      <td>0</td>\n",
       "      <td>0</td>\n",
       "      <td>0</td>\n",
       "      <td>1</td>\n",
       "      <td>0</td>\n",
       "      <td>0</td>\n",
       "      <td>0</td>\n",
       "    </tr>\n",
       "    <tr>\n",
       "      <th>97</th>\n",
       "      <td>tell truth people worthy</td>\n",
       "      <td>mark twain</td>\n",
       "      <td>0</td>\n",
       "      <td>0</td>\n",
       "      <td>0</td>\n",
       "      <td>0</td>\n",
       "      <td>0</td>\n",
       "      <td>0</td>\n",
       "      <td>0</td>\n",
       "      <td>0</td>\n",
       "      <td>1</td>\n",
       "      <td>0</td>\n",
       "      <td>0</td>\n",
       "      <td>0</td>\n",
       "      <td>0</td>\n",
       "      <td>0</td>\n",
       "      <td>0</td>\n",
       "    </tr>\n",
       "    <tr>\n",
       "      <th>98</th>\n",
       "      <td>person person matter small</td>\n",
       "      <td>dr seuss</td>\n",
       "      <td>0</td>\n",
       "      <td>1</td>\n",
       "      <td>0</td>\n",
       "      <td>0</td>\n",
       "      <td>0</td>\n",
       "      <td>0</td>\n",
       "      <td>0</td>\n",
       "      <td>0</td>\n",
       "      <td>0</td>\n",
       "      <td>0</td>\n",
       "      <td>0</td>\n",
       "      <td>0</td>\n",
       "      <td>0</td>\n",
       "      <td>0</td>\n",
       "      <td>0</td>\n",
       "    </tr>\n",
       "    <tr>\n",
       "      <th>99</th>\n",
       "      <td>mind need book sword need whetstone edge</td>\n",
       "      <td>george martin</td>\n",
       "      <td>0</td>\n",
       "      <td>0</td>\n",
       "      <td>0</td>\n",
       "      <td>0</td>\n",
       "      <td>1</td>\n",
       "      <td>0</td>\n",
       "      <td>0</td>\n",
       "      <td>0</td>\n",
       "      <td>0</td>\n",
       "      <td>0</td>\n",
       "      <td>0</td>\n",
       "      <td>0</td>\n",
       "      <td>0</td>\n",
       "      <td>0</td>\n",
       "      <td>0</td>\n",
       "    </tr>\n",
       "  </tbody>\n",
       "</table>\n",
       "<p>100 rows × 17 columns</p>\n",
       "</div>"
      ],
      "text/plain": [
       "                                               quotes          composer  love  \\\n",
       "0   world created process thinking changed changin...  albert einstein      0   \n",
       "1                     choice harry truly far ability           rowling      0   \n",
       "2                      way live life miracle miracle   albert einstein      0   \n",
       "3   person gentleman lady pleasure good novel into...      jane austen      0   \n",
       "4   imperfection beauty madness genius better abso...   marilyn monroe      0   \n",
       "..                                                ...               ...   ...   \n",
       "95  really understand person consider thing point ...       harper lee      0   \n",
       "96  write book want written book difficult grown u...  madeleine engle      0   \n",
       "97                          tell truth people worthy        mark twain      0   \n",
       "98                        person person matter small          dr seuss      0   \n",
       "99          mind need book sword need whetstone edge     george martin      0   \n",
       "\n",
       "    inspirational  life  humor  books  reading  friendship  friends  truth  \\\n",
       "0               0     0      0      0        0           0        0      0   \n",
       "1               0     0      0      0        0           0        0      0   \n",
       "2               1     1      0      0        0           0        0      0   \n",
       "3               0     0      1      1        0           0        0      0   \n",
       "4               1     0      0      0        0           0        0      0   \n",
       "..            ...   ...    ...    ...      ...         ...      ...    ...   \n",
       "95              0     0      0      0        0           0        0      0   \n",
       "96              0     0      0      1        0           0        0      0   \n",
       "97              0     0      0      0        0           0        0      1   \n",
       "98              1     0      0      0        0           0        0      0   \n",
       "99              0     0      0      1        0           0        0      0   \n",
       "\n",
       "    simile  attributed-no-source  writing  death  music  learning  \n",
       "0        0                     0        0      0      0         0  \n",
       "1        0                     0        0      0      0         0  \n",
       "2        0                     0        0      0      0         0  \n",
       "3        0                     0        0      0      0         0  \n",
       "4        0                     0        0      0      0         0  \n",
       "..     ...                   ...      ...    ...    ...       ...  \n",
       "95       0                     0        0      0      0         0  \n",
       "96       0                     0        1      0      0         0  \n",
       "97       0                     0        0      0      0         0  \n",
       "98       0                     0        0      0      0         0  \n",
       "99       0                     0        0      0      0         0  \n",
       "\n",
       "[100 rows x 17 columns]"
      ]
     },
     "execution_count": 57,
     "metadata": {},
     "output_type": "execute_result"
    }
   ],
   "source": [
    "'''\n",
    "เป็นการนำข้อมูลจากquotesมาเข้าfunction lemma_tokenizer , function sotpword และนำtoken ที่ได้หลังจากผ่านfunction แล้วรวมเป็นtext\n",
    "แล้วแทนที่ลงไปในdata frame เหมือนเดิม\n",
    "'''\n",
    "count = 0#เอาไว้ใช้กำหนดindex ของแต่ละrow\n",
    "for i in data:#เป็นการloop ข้อมูลจากquotes ในdata frame\n",
    "    token = sotpword(i)#นำข้อมูลquotesเข้าไปทำtoken\n",
    "    lemma = lemma_tokenizer(token)#หลังจากที่ได้ค่าtokenมานำtoken ที่ได้ไปทำ lemma_tokenizer ต่อ \n",
    "    text = ''#เป็นการสร้างtextเอาไว้เพื่อนำlemma_tokenizer ไปรวมเป็นประโยคเหมือนเดิม\n",
    "    for word in lemma:#เป็นการloopเพื่อรวมประโยค\n",
    "        text += word + ' '#เป็นการรวมแต่ละtokenเข้าไว้ด้วยกัน \n",
    "    df['quotes'][count]= text#นำtoken ที่รวมได้ไปแทนกลับลงไปในdataframe\n",
    "    count += 1\n",
    "'''\n",
    "เป็นการนำข้อมูลจากcomposerมาเข้าfunction tokenizerและนำtoken ที่ได้หลังจากผ่านfunction แล้วรวมเป็นtext\n",
    "แล้วแทนที่ลงไปในdata frame เหมือนเดิม\n",
    "'''\n",
    "count = 0#เอาไว้ใช้กำหนดindex ของแต่ละrow\n",
    "for i in df['composer']:#เป็นการloop ข้อมูลจากcomposer ในdata frame\n",
    "    token = tokenizer(i)#นำข้อมูลcomposerเข้าไปทำtoken\n",
    "    text = ''#เป็นการสร้างtextเอาไว้เพื่อนำtoken ไปรวมเป็นประโยคเหมือนเดิม\n",
    "    for word in token:#เป็นการloopเพื่อรวมประโยค\n",
    "        text += word + ' '#เป็นการรวมแต่ละtokenเข้าไว้ด้วยกัน \n",
    "    df['composer'][count]= text#นำtoken ที่รวมได้ไปแทนกลับลงไปในdataframe\n",
    "    count += 1\n",
    "df"
   ]
  },
  {
   "cell_type": "markdown",
   "metadata": {},
   "source": [
    "# modeling\n",
    "   เป็นการนำข้อมูลที่เราทำการเตรียมมานำมาสร้างmodel ในการทำนายquotesว่าควรจะติดตั้งtagเป็นประเภทอะไรในtagยอดนิยม15อันดับโดยที่อังกลในการใช้ทำmodel จะประกอบด้วย LogisticRegression ,Naïve Bayes,Random Forest และ LinearSVC โดยสาเหตุที่เลือกทั้ง4อังกอลนี้เพราะเหมาะกับการสร้างmodel แบบsupervised learning และเทคนิคที่เลือกใช้คู่กับอังกอลก็คือ LabelPowerset เหตุผลที่เลือกเพราะว่าคาดเดาว่าตัวของtagทั้ง15ตัวที่นิยิมจะมีความสัมพันธ์กันทำให้วิธีนี้มีเป็นวิธีที่เหมาะสมที่สุดในการหาค่าความถูกต้องเมื่อตัวtargetของต่อมาในการทำmodelเราจะให้gridsearch ในการจูนค่าparameterในแต่ละอังกอริทึมเพื่อที่จะได้ค่าparameterที่ดีที่สุดทำให้modelของเราทำนายได้แม่นยำขึ้นและเราเลือกทำCross validation โดยใช้วิธีk-foldเพราะเป็นวิธีที่ง่ายและรวดเร็วในการหาค่าความถูกต้องของmodel และเหตุผลที่ตั้งค่าk=25เพราะว่าอยากจะให้modelได้มีการเห็นข้อมูลที่เยอะและละเอียดเพื่อทำให้model ทำนายได้ดี"
   ]
  },
  {
   "cell_type": "markdown",
   "metadata": {},
   "source": [
    "## ทำการกำหนดตัวแปลอิสระ&ตัวแปลตาม"
   ]
  },
  {
   "cell_type": "code",
   "execution_count": 58,
   "metadata": {},
   "outputs": [],
   "source": [
    "'''\n",
    "เป็นการกำหนดตัวแปรอิสระ และ ตัวแปรตามเพื่อนำไปใช้ในการเข้าmodel\n",
    "'''\n",
    "x=df['quotes']#เป็นตัวแปรอิสระ\n",
    "y=df.iloc[:,2:]#เป็นตัวแปรตาม"
   ]
  },
  {
   "cell_type": "code",
   "execution_count": 59,
   "metadata": {
    "scrolled": false
   },
   "outputs": [
    {
     "name": "stdout",
     "output_type": "stream",
     "text": [
      "(100, 55)\n"
     ]
    }
   ],
   "source": [
    "'''\n",
    "เป็นการทำbag of word ของค่าตัวแปรอิสระ\n",
    "'''\n",
    "# เป็นการสร้างbag of wordแบบมีการถ่วงน้ำหนักของคำและกำหนดเงื่อนไขว่าใน 1 คำ ต้อมีdocument >=3 ขึ้นไป\n",
    "vectorizer = TfidfVectorizer(min_df = 3)\n",
    "x = vectorizer.fit_transform(x)#เป็นการนำmodel ในการสร้างbag of word ที่ได้ ไปfitด้วยข้อมูลตัวแปรอิสระ\n",
    "print(x.shape)"
   ]
  },
  {
   "cell_type": "code",
   "execution_count": 60,
   "metadata": {},
   "outputs": [
    {
     "data": {
      "text/plain": [
       "(100, 72)"
      ]
     },
     "execution_count": 60,
     "metadata": {},
     "output_type": "execute_result"
    }
   ],
   "source": [
    "'''\n",
    "เป็นการทำbag of word ของค่าตัวแปรอิสระที่รวมชื่อของผู้เขีนลงไปด้วย\n",
    "'''\n",
    "list_x_quo_com = []#เป็นlistที่เก็บtext ของ quote กับ ชื่อ ผู้แต่งในแต่ละrow\n",
    "for i in range(len(df.composer)):#เป็นการloopเพื่อจะดึงข้อมูลจากแต่ละrow\n",
    "    text=df.quotes[i]+df.composer[i]#เป็นการรวมtex quote กับ ชื่อผู้แต่งไว้ด้วยกัน\n",
    "    list_x_quo_com.append(text)#นำเก็บเข้าlist\n",
    "# เป็นการสร้างbag of wordแบบมีการถ่วงน้ำหนักของคำและกำหนดเงื่อนไขว่าใน 1 คำ ต้อมีdocument >=3 ขึ้นไป\n",
    "vectorizer1 = TfidfVectorizer(min_df = 3)\n",
    "x_composer = vectorizer1.fit_transform(list_x_quo_com)#เป็นการนำmodel ในการสร้างbag of word ที่ได้ ไปfitด้วยข้อมูลตัวแปรอิสระ\n",
    "x_composer.shape"
   ]
  },
  {
   "cell_type": "code",
   "execution_count": 61,
   "metadata": {},
   "outputs": [],
   "source": [
    "Bar_y_without_composer = []#list เก็บค่าความถูกต้องของ modelที่ไม่มีชื่อคนเขียน\n",
    "Bar_y_composer = []#list เก็บค่าความถูกต้องของ modelที่มีชื่อคนเขียน"
   ]
  },
  {
   "cell_type": "markdown",
   "metadata": {},
   "source": [
    "## LogisticRegression"
   ]
  },
  {
   "cell_type": "markdown",
   "metadata": {},
   "source": [
    "### Import"
   ]
  },
  {
   "cell_type": "code",
   "execution_count": 62,
   "metadata": {},
   "outputs": [],
   "source": [
    "from sklearn.datasets import make_classification\n",
    "from sklearn.linear_model import LogisticRegression\n",
    "from skmultilearn.problem_transform import LabelPowerset"
   ]
  },
  {
   "cell_type": "markdown",
   "metadata": {},
   "source": [
    "### LabelPowerset"
   ]
  },
  {
   "cell_type": "code",
   "execution_count": 63,
   "metadata": {
    "scrolled": false
   },
   "outputs": [
    {
     "name": "stdout",
     "output_type": "stream",
     "text": [
      "penalty: l2\n",
      "solver: newton-cg\n"
     ]
    }
   ],
   "source": [
    "'''เป็นการtuningเพื่อหาค่าparameterของmodel LogisticRegressionที่ทำให้ค่าออกมาดีที่สุด'''\n",
    "parameter = {'classifier':[LogisticRegression()],#เป็นset ที่เก็บค่าparameterทั้งหมดที่จะเอาเข้าไปให้gridsearch ทำการหาค่าparameterที่ดีที่สุด\n",
    "    'classifier__penalty':['l2', 'elasticnet', 'none'],\n",
    "    'classifier__solver':['newton-cg', 'lbfgs', 'liblinear', 'sag', 'saga']\n",
    "}\n",
    "Tuning = GridSearchCV(LabelPowerset(), parameter, cv=5, verbose=0)#เป็นการทำtuning เพื่อหาค่าparameterที่ดีที่สุด\n",
    "best_model = Tuning.fit(x, y)#นำข้อมูลเข้าไปtun\n",
    "#แสดงค่าparameterที่ดีที่สุดในแต่ละหัวข้อ\n",
    "print('penalty:', best_model.best_estimator_.get_params()['classifier__penalty'])\n",
    "print('solver:', best_model.best_estimator_.get_params()['classifier__solver'])"
   ]
  },
  {
   "cell_type": "code",
   "execution_count": 64,
   "metadata": {
    "scrolled": false
   },
   "outputs": [
    {
     "name": "stdout",
     "output_type": "stream",
     "text": [
      "Accuracy Scores: 0.31\n"
     ]
    }
   ],
   "source": [
    "'''เป็นการสร้างmodel predict โดยที่ข้อมูลที่ใช้เป็นเนื้อหาquoteอย่างเดียว'''\n",
    "# เป็นการสร้างCross validation แบบ k-foldมาใช้ในการตรวจสอบความถูกต้องของmodel\n",
    "cv = KFold(n_splits=25, random_state=1)\n",
    "# เป็นขั้นตอนการตรวจสอบค่าความถูกต้องของmodel\n",
    "scores_lab_logi = cross_val_score(best_model, x, y, scoring='accuracy', cv=cv, n_jobs=-1)\n",
    "print('Accuracy Scores: '+ str(scores_lab_logi.mean()))\n",
    "Bar_y_without_composer.append(scores_lab_logi.mean()*100)"
   ]
  },
  {
   "cell_type": "code",
   "execution_count": 65,
   "metadata": {},
   "outputs": [
    {
     "name": "stdout",
     "output_type": "stream",
     "text": [
      "penalty: l2\n",
      "solver: newton-cg\n"
     ]
    }
   ],
   "source": [
    "'''เป็นการtuningเพื่อหาค่าparameterของmodel LogisticRegressionที่ทำให้ค่าออกมาดีที่สุด'''\n",
    "parameter = {'classifier':[LogisticRegression()],#เป็นset ที่เก็บค่าparameterทั้งหมดที่จะเอาเข้าไปให้gridsearch ทำการหาค่าparameterที่ดีที่สุด\n",
    "    'classifier__penalty':['l2', 'elasticnet', 'none'],\n",
    "    'classifier__solver':['newton-cg', 'lbfgs', 'liblinear', 'sag', 'saga']\n",
    "}\n",
    "Tuning = GridSearchCV(LabelPowerset(), parameter, cv=5, verbose=0)#เป็นการทำtuning เพื่อหาค่าparameterที่ดีที่สุด\n",
    "best_model = Tuning.fit(x_composer, y)#นำข้อมูลเข้าไปtun\n",
    "#แสดงค่าparameterที่ดีที่สุดในแต่ละหัวข้อ\n",
    "print('penalty:', best_model.best_estimator_.get_params()['classifier__penalty'])\n",
    "print('solver:', best_model.best_estimator_.get_params()['classifier__solver'])"
   ]
  },
  {
   "cell_type": "code",
   "execution_count": 66,
   "metadata": {},
   "outputs": [
    {
     "name": "stdout",
     "output_type": "stream",
     "text": [
      "Accuracy Scores: 0.31\n"
     ]
    }
   ],
   "source": [
    "'''เป็นการสร้างmodel predict โดยที่ข้อมูลที่ใช้เป็นเนื้อหาquoteกับชื่อคนเขียนquote'''\n",
    "# เป็นการสร้างCross validation แบบ k-foldมาใช้ในการตรวจสอบความถูกต้องของmodel\n",
    "cv = KFold(n_splits=25, random_state=1)\n",
    "# เป็นขั้นตอนการตรวจสอบค่าความถูกต้องของmodel โดยจะใช้ค่าxที่มีชื่อคนเขียนรวมไปด้วย\n",
    "scores_lab_logi_quo_and_com = cross_val_score(best_model, x_composer, y, scoring='accuracy', cv=cv, n_jobs=-1)\n",
    "print('Accuracy Scores: '+ str(scores_lab_logi_quo_and_com.mean()))\n",
    "Bar_y_composer.append(scores_lab_logi_quo_and_com.mean()*100)"
   ]
  },
  {
   "cell_type": "markdown",
   "metadata": {},
   "source": [
    "## Naïve Bayes"
   ]
  },
  {
   "cell_type": "markdown",
   "metadata": {},
   "source": [
    "### Import"
   ]
  },
  {
   "cell_type": "code",
   "execution_count": 67,
   "metadata": {},
   "outputs": [],
   "source": [
    "from skmultilearn.problem_transform import LabelPowerset\n",
    "from sklearn.naive_bayes import GaussianNB"
   ]
  },
  {
   "cell_type": "markdown",
   "metadata": {},
   "source": [
    "### LabelPowerset"
   ]
  },
  {
   "cell_type": "code",
   "execution_count": 68,
   "metadata": {},
   "outputs": [
    {
     "name": "stdout",
     "output_type": "stream",
     "text": [
      "var_smoothing: 0.01\n"
     ]
    }
   ],
   "source": [
    "'''เป็นการtuningเพื่อหาค่าparameterของmodel Naïve Bayesที่ทำให้ค่าออกมาดีที่สุด'''\n",
    "parameter = {'classifier':[GaussianNB()],#เป็นset ที่เก็บค่าparameterทั้งหมดที่จะเอาเข้าไปให้gridsearch ทำการหาค่าparameterที่ดีที่สุด\n",
    "    'classifier__var_smoothing': np.logspace(0,-9, num=100)\n",
    "}\n",
    "Tuning = GridSearchCV(LabelPowerset(), parameter, cv=5, verbose=0)#เป็นการทำtuning เพื่อหาค่าparameterที่ดีที่สุด\n",
    "best_model = Tuning.fit(x, y)#นำข้อมูลเข้าไปtun\n",
    "#แสดงค่าparameterที่ดีที่สุดในแต่ละหัวข้อ\n",
    "print('var_smoothing:', best_model.best_estimator_.get_params()['classifier__var_smoothing'])"
   ]
  },
  {
   "cell_type": "code",
   "execution_count": 69,
   "metadata": {
    "scrolled": false
   },
   "outputs": [
    {
     "name": "stdout",
     "output_type": "stream",
     "text": [
      "Accuracy Scores: 0.11\n"
     ]
    }
   ],
   "source": [
    "'''เป็นการสร้างmodel predict โดยที่ข้อมูลที่ใช้เป็นเนื้อหาquoteอย่างเดียว'''\n",
    "# เป็นการสร้างCross validation แบบ k-foldมาใช้ในการตรวจสอบความถูกต้องของmodel\n",
    "cv = KFold(n_splits=25, random_state=1)\n",
    "# เป็นขั้นตอนการตรวจสอบค่าความถูกต้องของmodel\n",
    "scores_lab_nai = cross_val_score(best_model, x, y, scoring='accuracy', cv=cv, n_jobs=-1)\n",
    "print('Accuracy Scores: '+ str(scores_lab_nai.mean()))\n",
    "Bar_y_without_composer.append(scores_lab_nai.mean()*100)"
   ]
  },
  {
   "cell_type": "code",
   "execution_count": 70,
   "metadata": {},
   "outputs": [
    {
     "name": "stdout",
     "output_type": "stream",
     "text": [
      "var_smoothing: 0.02310129700083159\n"
     ]
    }
   ],
   "source": [
    "'''เป็นการtuningเพื่อหาค่าparameterของmodel Naïve Bayesที่ทำให้ค่าออกมาดีที่สุด'''\n",
    "parameter = {'classifier':[GaussianNB()],#เป็นset ที่เก็บค่าparameterทั้งหมดที่จะเอาเข้าไปให้gridsearch ทำการหาค่าparameterที่ดีที่สุด\n",
    "    'classifier__var_smoothing': np.logspace(0,-9, num=100)\n",
    "}\n",
    "Tuning = GridSearchCV(LabelPowerset(), parameter, cv=5, verbose=0)#เป็นการทำtuning เพื่อหาค่าparameterที่ดีที่สุด\n",
    "best_model = Tuning.fit(x_composer, y)#นำข้อมูลเข้าไปtun\n",
    "#แสดงค่าparameterที่ดีที่สุดในแต่ละหัวข้อ\n",
    "print('var_smoothing:', best_model.best_estimator_.get_params()['classifier__var_smoothing'])"
   ]
  },
  {
   "cell_type": "code",
   "execution_count": 71,
   "metadata": {
    "scrolled": true
   },
   "outputs": [
    {
     "name": "stdout",
     "output_type": "stream",
     "text": [
      "Accuracy Scores: 0.14\n"
     ]
    }
   ],
   "source": [
    "'''เป็นการสร้างmodel predict โดยที่ข้อมูลที่ใช้เป็นเนื้อหาquoteกับชื่อคนเขียนquote'''\n",
    "# เป็นการสร้างCross validation แบบ k-foldมาใช้ในการตรวจสอบความถูกต้องของmodel\n",
    "cv = KFold(n_splits=25, random_state=1)\n",
    "# เป็นขั้นตอนการตรวจสอบค่าความถูกต้องของmodel โดยจะใช้ค่าxที่มีชื่อคนเขียนรวมไปด้วย\n",
    "scores_lab_nai_quo_and_com = cross_val_score(best_model, x_composer, y, scoring='accuracy', cv=cv, n_jobs=-1)\n",
    "print('Accuracy Scores: '+ str(scores_lab_nai_quo_and_com.mean()))\n",
    "Bar_y_composer.append(scores_lab_nai_quo_and_com.mean()*100)"
   ]
  },
  {
   "cell_type": "markdown",
   "metadata": {},
   "source": [
    "## Random Forest"
   ]
  },
  {
   "cell_type": "markdown",
   "metadata": {},
   "source": [
    "### Import"
   ]
  },
  {
   "cell_type": "code",
   "execution_count": 72,
   "metadata": {},
   "outputs": [],
   "source": [
    "from skmultilearn.problem_transform import LabelPowerset\n",
    "from sklearn.ensemble import RandomForestClassifier"
   ]
  },
  {
   "cell_type": "markdown",
   "metadata": {},
   "source": [
    "### LabelPowerset"
   ]
  },
  {
   "cell_type": "code",
   "execution_count": 73,
   "metadata": {},
   "outputs": [
    {
     "name": "stdout",
     "output_type": "stream",
     "text": [
      "classifier__bootstrap: True\n",
      "classifier__max_depth: 40\n",
      "classifier__max_features: auto\n",
      "classifier__min_samples_leaf: 2\n",
      "classifier__min_samples_split: 10\n"
     ]
    }
   ],
   "source": [
    "'''เป็นการtuningเพื่อหาค่าparameterของmodel Random Forestที่ทำให้ค่าออกมาดีที่สุด'''\n",
    "parameter = {'classifier':[RandomForestClassifier()],#เป็นset ที่เก็บค่าparameterทั้งหมดที่จะเอาเข้าไปให้gridsearch ทำการหาค่าparameterที่ดีที่สุด\n",
    "    'classifier__bootstrap': [True, False],\n",
    " 'classifier__max_depth': [10, 20, 30, 40, 50],\n",
    " 'classifier__max_features': ['auto', 'sqrt'],\n",
    " 'classifier__min_samples_leaf': [1, 2, 4],\n",
    " 'classifier__min_samples_split': [2, 5, 10]}\n",
    "Tuning = GridSearchCV(LabelPowerset(), parameter, cv=5, verbose=0)#เป็นการทำtuning เพื่อหาค่าparameterที่ดีที่สุด\n",
    "best_model = Tuning.fit(x, y)#นำข้อมูลเข้าไปtun\n",
    "#แสดงค่าparameterที่ดีที่สุดในแต่ละหัวข้อ\n",
    "print('classifier__bootstrap:', best_model.best_estimator_.get_params()['classifier__bootstrap'])\n",
    "print('classifier__max_depth:', best_model.best_estimator_.get_params()['classifier__max_depth'])\n",
    "print('classifier__max_features:', best_model.best_estimator_.get_params()['classifier__max_features'])\n",
    "print('classifier__min_samples_leaf:', best_model.best_estimator_.get_params()['classifier__min_samples_leaf'])\n",
    "print('classifier__min_samples_split:', best_model.best_estimator_.get_params()['classifier__min_samples_split'])"
   ]
  },
  {
   "cell_type": "code",
   "execution_count": 74,
   "metadata": {
    "scrolled": false
   },
   "outputs": [
    {
     "name": "stdout",
     "output_type": "stream",
     "text": [
      "Accuracy Scores: 0.31\n"
     ]
    }
   ],
   "source": [
    "'''เป็นการสร้างmodel predict โดยที่ข้อมูลที่ใช้เป็นเนื้อหาquoteอย่างเดียว'''\n",
    "\n",
    "# เป็นการสร้างCross validation แบบ k-foldมาใช้ในการตรวจสอบความถูกต้องของmodel\n",
    "cv = KFold(n_splits=25, random_state=1)\n",
    "# เป็นขั้นตอนการตรวจสอบค่าความถูกต้องของmodel\n",
    "scores_lab_ran = cross_val_score(best_model, x, y, scoring='accuracy', cv=cv, n_jobs=-1)\n",
    "print('Accuracy Scores: '+ str(scores_lab_ran.mean()))\n",
    "Bar_y_without_composer.append(scores_lab_ran.mean()*100)"
   ]
  },
  {
   "cell_type": "code",
   "execution_count": 75,
   "metadata": {},
   "outputs": [
    {
     "name": "stdout",
     "output_type": "stream",
     "text": [
      "classifier__bootstrap: True\n",
      "classifier__max_depth: 30\n",
      "classifier__max_features: auto\n",
      "classifier__min_samples_leaf: 2\n",
      "classifier__min_samples_split: 2\n"
     ]
    }
   ],
   "source": [
    "'''เป็นการtuningเพื่อหาค่าparameterของmodel Random Forestที่ทำให้ค่าออกมาดีที่สุด'''\n",
    "parameter = {'classifier':[RandomForestClassifier()],#เป็นset ที่เก็บค่าparameterทั้งหมดที่จะเอาเข้าไปให้gridsearch ทำการหาค่าparameterที่ดีที่สุด\n",
    "    'classifier__bootstrap': [True, False],\n",
    " 'classifier__max_depth': [10, 20, 30, 40, 50],\n",
    " 'classifier__max_features': ['auto', 'sqrt'],\n",
    " 'classifier__min_samples_leaf': [1, 2, 4],\n",
    " 'classifier__min_samples_split': [2, 5, 10]}\n",
    "Tuning = GridSearchCV(LabelPowerset(), parameter, cv=5, verbose=0)#เป็นการทำtuning เพื่อหาค่าparameterที่ดีที่สุด\n",
    "best_model = Tuning.fit(x_composer, y)#นำข้อมูลเข้าไปtun\n",
    "#แสดงค่าparameterที่ดีที่สุดในแต่ละหัวข้อ\n",
    "print('classifier__bootstrap:', best_model.best_estimator_.get_params()['classifier__bootstrap'])\n",
    "print('classifier__max_depth:', best_model.best_estimator_.get_params()['classifier__max_depth'])\n",
    "print('classifier__max_features:', best_model.best_estimator_.get_params()['classifier__max_features'])\n",
    "print('classifier__min_samples_leaf:', best_model.best_estimator_.get_params()['classifier__min_samples_leaf'])\n",
    "print('classifier__min_samples_split:', best_model.best_estimator_.get_params()['classifier__min_samples_split'])"
   ]
  },
  {
   "cell_type": "code",
   "execution_count": 76,
   "metadata": {},
   "outputs": [
    {
     "name": "stdout",
     "output_type": "stream",
     "text": [
      "Accuracy Scores: 0.29\n"
     ]
    }
   ],
   "source": [
    "'''เป็นการสร้างmodel predict โดยที่ข้อมูลที่ใช้เป็นเนื้อหาquoteกับชื่อคนเขียนquote'''\n",
    "# เป็นการสร้างCross validation แบบ k-foldมาใช้ในการตรวจสอบความถูกต้องของmodel\n",
    "cv = KFold(n_splits=25, random_state=1)\n",
    "# เป็นขั้นตอนการตรวจสอบค่าความถูกต้องของmodel โดยจะใช้ค่าxที่มีชื่อคนเขียนรวมไปด้วย\n",
    "scores_lab_ran_quo_and_com = cross_val_score(best_model, x_composer, y, scoring='accuracy', cv=cv, n_jobs=-1)\n",
    "print('Accuracy Scores: '+ str(scores_lab_ran_quo_and_com.mean()))\n",
    "Bar_y_composer.append(scores_lab_ran_quo_and_com.mean()*100)"
   ]
  },
  {
   "cell_type": "markdown",
   "metadata": {},
   "source": [
    "## LinearSVC"
   ]
  },
  {
   "cell_type": "markdown",
   "metadata": {},
   "source": [
    "### import"
   ]
  },
  {
   "cell_type": "code",
   "execution_count": 77,
   "metadata": {},
   "outputs": [],
   "source": [
    "from sklearn.svm import SVC\n",
    "from skmultilearn.problem_transform import LabelPowerset"
   ]
  },
  {
   "cell_type": "code",
   "execution_count": 78,
   "metadata": {},
   "outputs": [
    {
     "name": "stdout",
     "output_type": "stream",
     "text": [
      "classifier__C: 0.1\n",
      "classifier__gamma: 0.1\n"
     ]
    }
   ],
   "source": [
    "'''เป็นการtuningเพื่อหาค่าparameterของmodel LinearSVCที่ทำให้ค่าออกมาดีที่สุด'''\n",
    "parameter = {'classifier':[SVC()],#เป็นset ที่เก็บค่าparameterทั้งหมดที่จะเอาเข้าไปให้gridsearch ทำการหาค่าparameterที่ดีที่สุด\n",
    "    'classifier__C' : [0.1, 1, 10, 100],\n",
    " 'classifier__gamma' : [0.1, 1, 10, 100]\n",
    "}\n",
    "Tuning = GridSearchCV(LabelPowerset(), parameter, cv=5, verbose=0)#เป็นการทำtuning เพื่อหาค่าparameterที่ดีที่สุด\n",
    "best_model = Tuning.fit(x, y)#นำข้อมูลเข้าไปtun\n",
    "#แสดงค่าparameterที่ดีที่สุดในแต่ละหัวข้อ\n",
    "print('classifier__C:', best_model.best_estimator_.get_params()['classifier__C'])\n",
    "print('classifier__gamma:', best_model.best_estimator_.get_params()['classifier__gamma'])"
   ]
  },
  {
   "cell_type": "code",
   "execution_count": 79,
   "metadata": {
    "scrolled": true
   },
   "outputs": [
    {
     "name": "stdout",
     "output_type": "stream",
     "text": [
      "Accuracy Scores: 0.3\n"
     ]
    }
   ],
   "source": [
    "# เป็นการสร้างCross validation แบบ k-foldมาใช้ในการตรวจสอบความถูกต้องของmodel\n",
    "cv = KFold(n_splits=25, random_state=1)\n",
    "# เป็นขั้นตอนการตรวจสอบค่าความถูกต้องของmodel\n",
    "scores_lab_SVC = cross_val_score(best_model, x, y, scoring='accuracy', cv=cv, n_jobs=-1)\n",
    "print('Accuracy Scores: '+ str(scores_lab_SVC.mean()))\n",
    "Bar_y_without_composer.append(scores_lab_SVC.mean()*100)"
   ]
  },
  {
   "cell_type": "code",
   "execution_count": 80,
   "metadata": {},
   "outputs": [
    {
     "name": "stdout",
     "output_type": "stream",
     "text": [
      "classifier__C: 0.1\n",
      "classifier__gamma: 0.1\n"
     ]
    }
   ],
   "source": [
    "'''เป็นการtuningเพื่อหาค่าparameterของmodel LinearSVCที่ทำให้ค่าออกมาดีที่สุด'''\n",
    "parameter = {'classifier':[SVC()],#เป็นset ที่เก็บค่าparameterทั้งหมดที่จะเอาเข้าไปให้gridsearch ทำการหาค่าparameterที่ดีที่สุด\n",
    "    'classifier__C' : [0.1, 1, 10, 100],\n",
    " 'classifier__gamma' : [0.1, 1, 10, 100]\n",
    "}\n",
    "Tuning = GridSearchCV(LabelPowerset(), parameter, cv=5, verbose=0)#เป็นการทำtuning เพื่อหาค่าparameterที่ดีที่สุด\n",
    "best_model = Tuning.fit(x_composer, y)#นำข้อมูลเข้าไปtun\n",
    "#แสดงค่าparameterที่ดีที่สุดในแต่ละหัวข้อ\n",
    "print('classifier__C:', best_model.best_estimator_.get_params()['classifier__C'])\n",
    "print('classifier__gamma:', best_model.best_estimator_.get_params()['classifier__gamma'])"
   ]
  },
  {
   "cell_type": "code",
   "execution_count": 81,
   "metadata": {},
   "outputs": [
    {
     "name": "stdout",
     "output_type": "stream",
     "text": [
      "Accuracy Scores: 0.3\n"
     ]
    }
   ],
   "source": [
    "# เป็นการสร้างCross validation แบบ k-foldมาใช้ในการตรวจสอบความถูกต้องของmodel\n",
    "cv = KFold(n_splits=25, random_state=1)\n",
    "# เป็นขั้นตอนการตรวจสอบค่าความถูกต้องของmodel โดยจะใช้ค่าxที่มีชื่อคนเขียนรวมไปด้วย\n",
    "scores_lab_SVC_quo_and_com = cross_val_score(best_model, x_composer, y, scoring='accuracy', cv=cv, n_jobs=-1)\n",
    "print('Accuracy Scores: '+ str(scores_lab_SVC_quo_and_com.mean()))\n",
    "Bar_y_composer.append(scores_lab_SVC_quo_and_com.mean()*100)"
   ]
  },
  {
   "cell_type": "markdown",
   "metadata": {},
   "source": [
    "# Summary"
   ]
  },
  {
   "cell_type": "code",
   "execution_count": 82,
   "metadata": {},
   "outputs": [
    {
     "data": {
      "text/plain": [
       "[31.0, 14.000000000000002, 28.999999999999996, 30.0]"
      ]
     },
     "execution_count": 82,
     "metadata": {},
     "output_type": "execute_result"
    }
   ],
   "source": [
    "Bar_y_composer"
   ]
  },
  {
   "cell_type": "code",
   "execution_count": 83,
   "metadata": {},
   "outputs": [
    {
     "data": {
      "image/png": "[encoded data removed]",
      "text/plain": [
       "<Figure size 720x720 with 1 Axes>"
      ]
     },
     "metadata": {
      "needs_background": "light"
     },
     "output_type": "display_data"
    }
   ],
   "source": [
    "'''เป็นการplot กราฟเปลียบเทียบค่าความถูกต้องของแต่ละmodel'''\n",
    "Bar_x = ['Logistic Regression','Naïve Bayes','Random Forest','LinearSVC']\n",
    "X = np.arange(len(Bar_x))\n",
    "width = 0.35\n",
    "\n",
    "fig, ax = plt.subplots(figsize=(10, 10))\n",
    "rects1 = ax.bar(X - width/2, Bar_y_without_composer, width, label='Without composer')\n",
    "rects2 = ax.bar(X + width/2, Bar_y_composer, width, label='With composer')\n",
    "plt.grid()\n",
    "plt.ylim(0,50)\n",
    "\n",
    "ax.set_ylabel('Accuracy Scores')\n",
    "ax.set_title('Accuracy Scores by With composer and Without composer')\n",
    "ax.set_xticks(X)\n",
    "ax.set_xticklabels(Bar_x)\n",
    "ax.legend()\n",
    "\n",
    "fig.tight_layout()"
   ]
  },
  {
   "cell_type": "markdown",
   "metadata": {},
   "source": [
    "จากกราฟด้านบนจะเห็นได้ว่า Model ที่ผ่านการทำ K-fold Cross Validation เพื่อทำการวนloopในการแบ่ง train test ชุดข้อมูลแล้วนำไปเข้าmodelที่ผ่านการ tuning Parameter มาแล้ว โดยจะเห็นว่า Model ของRandom Forest นั้นมีค่าความแม่นยำที่สุดเฉพาะข้อมูลที่มีแค่เนื้อหาอย่างเดียวแต่ข้อมูลที่มีชื่อผู้แต่งนั้นมีค่าน้อยกว่าแบบไม่มีชื่อผู้แต่งแต่เมื่อดู Model อื่นๆจะเห็นว่า Logistic Regression และ LinearSVC นั้นในส่วนของข้อมูลที่มีชื่อผู้แต่งกับไม่มีชื่อผู้แต่งมีค่า Accuracy เท่ากัน ในส่วนของ Naïve Bayes ค่าAccuracy ของข้อมูลที่มีชื่อผู้แต่งจะเยอะกว่าแบบไม่มีชื่อผู้แต่ง\n",
    "สรุปได้ว่า Model ของ Random Forest ได้ค่า Accuracy มากที่สุด และข้อมูลที่ได้ค่า Accuracy มากที่สุดคือข้อมูลที่ไม่มีชื่อผู้แต่ง"
   ]
  },
  {
   "cell_type": "code",
   "execution_count": null,
   "metadata": {},
   "outputs": [],
   "source": []
  }
 ],
 "metadata": {
  "kernelspec": {
   "display_name": "Python 3",
   "language": "python",
   "name": "python3"
  },
  "language_info": {
   "codemirror_mode": {
    "name": "ipython",
    "version": 3
   },
   "file_extension": ".py",
   "mimetype": "text/x-python",
   "name": "python",
   "nbconvert_exporter": "python",
   "pygments_lexer": "ipython3",
   "version": "3.8.3"
  }
 },
 "nbformat": 4,
 "nbformat_minor": 4
}
